{
 "cells": [
  {
   "cell_type": "code",
   "execution_count": 1,
   "metadata": {},
   "outputs": [],
   "source": [
    "import numpy as np\n",
    "import pandas as pd"
   ]
  },
  {
   "cell_type": "code",
   "execution_count": 2,
   "metadata": {},
   "outputs": [],
   "source": [
    "data_dir = '/home/donald/Homework/9.26/Anuran_Calls_(MFCCs)/anuran_data.csv'\n",
    "df = pd.read_csv(data_dir)"
   ]
  },
  {
   "cell_type": "code",
   "execution_count": 3,
   "metadata": {},
   "outputs": [
    {
     "data": {
      "text/html": [
       "<div>\n",
       "<style scoped>\n",
       "    .dataframe tbody tr th:only-of-type {\n",
       "        vertical-align: middle;\n",
       "    }\n",
       "\n",
       "    .dataframe tbody tr th {\n",
       "        vertical-align: top;\n",
       "    }\n",
       "\n",
       "    .dataframe thead th {\n",
       "        text-align: right;\n",
       "    }\n",
       "</style>\n",
       "<table border=\"1\" class=\"dataframe\">\n",
       "  <thead>\n",
       "    <tr style=\"text-align: right;\">\n",
       "      <th></th>\n",
       "      <th>Unnamed: 0</th>\n",
       "      <th>MFCCs_ 1</th>\n",
       "      <th>MFCCs_ 2</th>\n",
       "      <th>MFCCs_ 3</th>\n",
       "      <th>MFCCs_ 4</th>\n",
       "      <th>MFCCs_ 5</th>\n",
       "      <th>MFCCs_ 6</th>\n",
       "      <th>MFCCs_ 7</th>\n",
       "      <th>MFCCs_ 8</th>\n",
       "      <th>MFCCs_ 9</th>\n",
       "      <th>...</th>\n",
       "      <th>MFCCs_14</th>\n",
       "      <th>MFCCs_15</th>\n",
       "      <th>MFCCs_16</th>\n",
       "      <th>MFCCs_17</th>\n",
       "      <th>MFCCs_18</th>\n",
       "      <th>MFCCs_19</th>\n",
       "      <th>MFCCs_20</th>\n",
       "      <th>MFCCs_21</th>\n",
       "      <th>MFCCs_22</th>\n",
       "      <th>labels</th>\n",
       "    </tr>\n",
       "  </thead>\n",
       "  <tbody>\n",
       "    <tr>\n",
       "      <th>5495</th>\n",
       "      <td>5495</td>\n",
       "      <td>1.0</td>\n",
       "      <td>0.411688</td>\n",
       "      <td>0.632660</td>\n",
       "      <td>0.444858</td>\n",
       "      <td>0.081459</td>\n",
       "      <td>0.073371</td>\n",
       "      <td>0.060098</td>\n",
       "      <td>-0.070580</td>\n",
       "      <td>0.085939</td>\n",
       "      <td>...</td>\n",
       "      <td>-0.073728</td>\n",
       "      <td>-0.106057</td>\n",
       "      <td>0.175804</td>\n",
       "      <td>0.039402</td>\n",
       "      <td>-0.074535</td>\n",
       "      <td>0.055579</td>\n",
       "      <td>-0.026558</td>\n",
       "      <td>-0.033212</td>\n",
       "      <td>0.122992</td>\n",
       "      <td>4</td>\n",
       "    </tr>\n",
       "    <tr>\n",
       "      <th>2943</th>\n",
       "      <td>2943</td>\n",
       "      <td>1.0</td>\n",
       "      <td>0.283994</td>\n",
       "      <td>0.176226</td>\n",
       "      <td>0.512543</td>\n",
       "      <td>0.131038</td>\n",
       "      <td>0.052635</td>\n",
       "      <td>-0.084059</td>\n",
       "      <td>0.040594</td>\n",
       "      <td>0.303001</td>\n",
       "      <td>...</td>\n",
       "      <td>-0.065310</td>\n",
       "      <td>-0.287079</td>\n",
       "      <td>0.057554</td>\n",
       "      <td>0.136976</td>\n",
       "      <td>-0.011246</td>\n",
       "      <td>-0.030171</td>\n",
       "      <td>-0.111902</td>\n",
       "      <td>0.051684</td>\n",
       "      <td>0.234526</td>\n",
       "      <td>8</td>\n",
       "    </tr>\n",
       "    <tr>\n",
       "      <th>6865</th>\n",
       "      <td>6865</td>\n",
       "      <td>1.0</td>\n",
       "      <td>0.418050</td>\n",
       "      <td>0.725933</td>\n",
       "      <td>0.321982</td>\n",
       "      <td>-0.251935</td>\n",
       "      <td>0.199197</td>\n",
       "      <td>0.215955</td>\n",
       "      <td>-0.192024</td>\n",
       "      <td>-0.060706</td>\n",
       "      <td>...</td>\n",
       "      <td>0.003375</td>\n",
       "      <td>0.022219</td>\n",
       "      <td>-0.009232</td>\n",
       "      <td>-0.030010</td>\n",
       "      <td>0.048708</td>\n",
       "      <td>0.001381</td>\n",
       "      <td>-0.074283</td>\n",
       "      <td>0.004601</td>\n",
       "      <td>0.052881</td>\n",
       "      <td>5</td>\n",
       "    </tr>\n",
       "  </tbody>\n",
       "</table>\n",
       "<p>3 rows × 24 columns</p>\n",
       "</div>"
      ],
      "text/plain": [
       "      Unnamed: 0  MFCCs_ 1  MFCCs_ 2  MFCCs_ 3  MFCCs_ 4  MFCCs_ 5  MFCCs_ 6  \\\n",
       "5495        5495       1.0  0.411688  0.632660  0.444858  0.081459  0.073371   \n",
       "2943        2943       1.0  0.283994  0.176226  0.512543  0.131038  0.052635   \n",
       "6865        6865       1.0  0.418050  0.725933  0.321982 -0.251935  0.199197   \n",
       "\n",
       "      MFCCs_ 7  MFCCs_ 8  MFCCs_ 9   ...    MFCCs_14  MFCCs_15  MFCCs_16  \\\n",
       "5495  0.060098 -0.070580  0.085939   ...   -0.073728 -0.106057  0.175804   \n",
       "2943 -0.084059  0.040594  0.303001   ...   -0.065310 -0.287079  0.057554   \n",
       "6865  0.215955 -0.192024 -0.060706   ...    0.003375  0.022219 -0.009232   \n",
       "\n",
       "      MFCCs_17  MFCCs_18  MFCCs_19  MFCCs_20  MFCCs_21  MFCCs_22  labels  \n",
       "5495  0.039402 -0.074535  0.055579 -0.026558 -0.033212  0.122992       4  \n",
       "2943  0.136976 -0.011246 -0.030171 -0.111902  0.051684  0.234526       8  \n",
       "6865 -0.030010  0.048708  0.001381 -0.074283  0.004601  0.052881       5  \n",
       "\n",
       "[3 rows x 24 columns]"
      ]
     },
     "execution_count": 3,
     "metadata": {},
     "output_type": "execute_result"
    }
   ],
   "source": [
    "df.sample(3)"
   ]
  },
  {
   "cell_type": "code",
   "execution_count": 4,
   "metadata": {},
   "outputs": [],
   "source": [
    "df = df.drop(columns=['Unnamed: 0'])"
   ]
  },
  {
   "cell_type": "code",
   "execution_count": 5,
   "metadata": {},
   "outputs": [],
   "source": [
    "y = df.labels.values\n",
    "num_class = len(np.unique(y))"
   ]
  },
  {
   "cell_type": "code",
   "execution_count": 6,
   "metadata": {},
   "outputs": [],
   "source": [
    "y = np.reshape(y, (-1, 1))"
   ]
  },
  {
   "cell_type": "code",
   "execution_count": 7,
   "metadata": {},
   "outputs": [],
   "source": [
    "from sklearn.preprocessing import OneHotEncoder"
   ]
  },
  {
   "cell_type": "code",
   "execution_count": 8,
   "metadata": {},
   "outputs": [],
   "source": [
    "enc = OneHotEncoder()"
   ]
  },
  {
   "cell_type": "code",
   "execution_count": 9,
   "metadata": {
    "scrolled": true
   },
   "outputs": [
    {
     "data": {
      "text/plain": [
       "(7195, 10)"
      ]
     },
     "execution_count": 9,
     "metadata": {},
     "output_type": "execute_result"
    }
   ],
   "source": [
    "enc.fit(y)\n",
    "y = enc.transform(y).toarray()\n",
    "y.shape"
   ]
  },
  {
   "cell_type": "code",
   "execution_count": 10,
   "metadata": {},
   "outputs": [],
   "source": [
    "import matplotlib.pyplot as plt"
   ]
  },
  {
   "cell_type": "code",
   "execution_count": 11,
   "metadata": {
    "scrolled": true
   },
   "outputs": [
    {
     "data": {
      "text/plain": [
       "array([[<matplotlib.axes._subplots.AxesSubplot object at 0x7f6d1294ac50>,\n",
       "        <matplotlib.axes._subplots.AxesSubplot object at 0x7f6d10917ef0>,\n",
       "        <matplotlib.axes._subplots.AxesSubplot object at 0x7f6d108c94a8>,\n",
       "        <matplotlib.axes._subplots.AxesSubplot object at 0x7f6d10871b38>,\n",
       "        <matplotlib.axes._subplots.AxesSubplot object at 0x7f6d108a1208>],\n",
       "       [<matplotlib.axes._subplots.AxesSubplot object at 0x7f6d108a1240>,\n",
       "        <matplotlib.axes._subplots.AxesSubplot object at 0x7f6d107eff28>,\n",
       "        <matplotlib.axes._subplots.AxesSubplot object at 0x7f6d1081f5f8>,\n",
       "        <matplotlib.axes._subplots.AxesSubplot object at 0x7f6d107c6c88>,\n",
       "        <matplotlib.axes._subplots.AxesSubplot object at 0x7f6d1077a358>],\n",
       "       [<matplotlib.axes._subplots.AxesSubplot object at 0x7f6d107a09e8>,\n",
       "        <matplotlib.axes._subplots.AxesSubplot object at 0x7f6d107520b8>,\n",
       "        <matplotlib.axes._subplots.AxesSubplot object at 0x7f6d106f9748>,\n",
       "        <matplotlib.axes._subplots.AxesSubplot object at 0x7f6d10721dd8>,\n",
       "        <matplotlib.axes._subplots.AxesSubplot object at 0x7f6d106d24a8>],\n",
       "       [<matplotlib.axes._subplots.AxesSubplot object at 0x7f6d1067ab38>,\n",
       "        <matplotlib.axes._subplots.AxesSubplot object at 0x7f6d1062b208>,\n",
       "        <matplotlib.axes._subplots.AxesSubplot object at 0x7f6d10652898>,\n",
       "        <matplotlib.axes._subplots.AxesSubplot object at 0x7f6d105faf28>,\n",
       "        <matplotlib.axes._subplots.AxesSubplot object at 0x7f6d105ab5f8>],\n",
       "       [<matplotlib.axes._subplots.AxesSubplot object at 0x7f6d105d2c88>,\n",
       "        <matplotlib.axes._subplots.AxesSubplot object at 0x7f6d10584358>,\n",
       "        <matplotlib.axes._subplots.AxesSubplot object at 0x7f6d1052c9e8>,\n",
       "        <matplotlib.axes._subplots.AxesSubplot object at 0x7f6d1055d0b8>,\n",
       "        <matplotlib.axes._subplots.AxesSubplot object at 0x7f6d10502748>]],\n",
       "      dtype=object)"
      ]
     },
     "execution_count": 11,
     "metadata": {},
     "output_type": "execute_result"
    },
    {
     "data": {
      "image/png": "[encoded data removed]",
      "text/plain": [
       "<Figure size 432x288 with 25 Axes>"
      ]
     },
     "metadata": {
      "needs_background": "light"
     },
     "output_type": "display_data"
    }
   ],
   "source": [
    "df.iloc[:,0:22].hist()"
   ]
  },
  {
   "cell_type": "code",
   "execution_count": 12,
   "metadata": {},
   "outputs": [
    {
     "data": {
      "text/plain": [
       "(7195, 22)"
      ]
     },
     "execution_count": 12,
     "metadata": {},
     "output_type": "execute_result"
    }
   ],
   "source": [
    "from sklearn.preprocessing import normalize\n",
    "X = normalize(df.iloc[:,0:22].values)\n",
    "X.shape"
   ]
  },
  {
   "cell_type": "code",
   "execution_count": 13,
   "metadata": {},
   "outputs": [],
   "source": [
    "import tensorflow as tf"
   ]
  },
  {
   "cell_type": "code",
   "execution_count": 14,
   "metadata": {},
   "outputs": [
    {
     "name": "stderr",
     "output_type": "stream",
     "text": [
      "Using TensorFlow backend.\n"
     ]
    }
   ],
   "source": [
    "from keras.models import Sequential\n",
    "from keras.layers import Input, Dense, Dropout, Softmax"
   ]
  },
  {
   "cell_type": "code",
   "execution_count": 27,
   "metadata": {},
   "outputs": [
    {
     "name": "stdout",
     "output_type": "stream",
     "text": [
      "_________________________________________________________________\n",
      "Layer (type)                 Output Shape              Param #   \n",
      "=================================================================\n",
      "dense_13 (Dense)             (None, 20)                460       \n",
      "_________________________________________________________________\n",
      "dense_14 (Dense)             (None, 40)                840       \n",
      "_________________________________________________________________\n",
      "dense_15 (Dense)             (None, 40)                1640      \n",
      "_________________________________________________________________\n",
      "dropout_3 (Dropout)          (None, 40)                0         \n",
      "_________________________________________________________________\n",
      "dense_16 (Dense)             (None, 10)                410       \n",
      "=================================================================\n",
      "Total params: 3,350\n",
      "Trainable params: 3,350\n",
      "Non-trainable params: 0\n",
      "_________________________________________________________________\n"
     ]
    }
   ],
   "source": [
    "model = Sequential()\n",
    "model.add(Dense(20, input_shape=(22,)))\n",
    "model.add(Dense(40, activation = 'relu'))\n",
    "model.add(Dense(40, activation='relu'))\n",
    "model.add(Dropout(0.3))\n",
    "model.add(Dense(num_class, activation='softmax'))\n",
    "model.summary()"
   ]
  },
  {
   "cell_type": "code",
   "execution_count": 28,
   "metadata": {},
   "outputs": [],
   "source": [
    "from sklearn.model_selection import train_test_split\n",
    "train_X, test_X, train_y, test_y = train_test_split(X, y, test_size=0.3)\n",
    "model.compile(optimizer='Adam', loss='categorical_crossentropy', metrics=['accuracy'])"
   ]
  },
  {
   "cell_type": "code",
   "execution_count": 30,
   "metadata": {
    "scrolled": true
   },
   "outputs": [
    {
     "name": "stdout",
     "output_type": "stream",
     "text": [
      "Epoch 1/100\n",
      "5036/5036 [==============================] - 0s 17us/step - loss: 0.1103 - acc: 0.9680\n",
      "Epoch 2/100\n",
      "5036/5036 [==============================] - 0s 14us/step - loss: 0.1068 - acc: 0.9674\n",
      "Epoch 3/100\n",
      "5036/5036 [==============================] - 0s 14us/step - loss: 0.1036 - acc: 0.9688\n",
      "Epoch 4/100\n",
      "5036/5036 [==============================] - 0s 14us/step - loss: 0.0988 - acc: 0.9706\n",
      "Epoch 5/100\n",
      "5036/5036 [==============================] - 0s 15us/step - loss: 0.0948 - acc: 0.9728\n",
      "Epoch 6/100\n",
      "5036/5036 [==============================] - 0s 14us/step - loss: 0.0953 - acc: 0.9706\n",
      "Epoch 7/100\n",
      "5036/5036 [==============================] - 0s 14us/step - loss: 0.0970 - acc: 0.9712\n",
      "Epoch 8/100\n",
      "5036/5036 [==============================] - 0s 14us/step - loss: 0.0929 - acc: 0.9728\n",
      "Epoch 9/100\n",
      "5036/5036 [==============================] - 0s 14us/step - loss: 0.0936 - acc: 0.9728\n",
      "Epoch 10/100\n",
      "5036/5036 [==============================] - 0s 15us/step - loss: 0.0898 - acc: 0.9750\n",
      "Epoch 11/100\n",
      "5036/5036 [==============================] - 0s 15us/step - loss: 0.0937 - acc: 0.9716\n",
      "Epoch 12/100\n",
      "5036/5036 [==============================] - 0s 15us/step - loss: 0.0864 - acc: 0.9734\n",
      "Epoch 13/100\n",
      "5036/5036 [==============================] - 0s 14us/step - loss: 0.0897 - acc: 0.9738\n",
      "Epoch 14/100\n",
      "5036/5036 [==============================] - 0s 15us/step - loss: 0.0823 - acc: 0.9754\n",
      "Epoch 15/100\n",
      "5036/5036 [==============================] - 0s 15us/step - loss: 0.0857 - acc: 0.9760\n",
      "Epoch 16/100\n",
      "5036/5036 [==============================] - 0s 14us/step - loss: 0.0882 - acc: 0.9754\n",
      "Epoch 17/100\n",
      "5036/5036 [==============================] - 0s 14us/step - loss: 0.0836 - acc: 0.9742\n",
      "Epoch 18/100\n",
      "5036/5036 [==============================] - 0s 14us/step - loss: 0.0789 - acc: 0.9762\n",
      "Epoch 19/100\n",
      "5036/5036 [==============================] - 0s 14us/step - loss: 0.0865 - acc: 0.9750\n",
      "Epoch 20/100\n",
      "5036/5036 [==============================] - 0s 15us/step - loss: 0.0831 - acc: 0.9740\n",
      "Epoch 21/100\n",
      "5036/5036 [==============================] - 0s 14us/step - loss: 0.0798 - acc: 0.9756\n",
      "Epoch 22/100\n",
      "5036/5036 [==============================] - 0s 14us/step - loss: 0.0797 - acc: 0.9762\n",
      "Epoch 23/100\n",
      "5036/5036 [==============================] - 0s 14us/step - loss: 0.0798 - acc: 0.9756\n",
      "Epoch 24/100\n",
      "5036/5036 [==============================] - 0s 14us/step - loss: 0.0773 - acc: 0.9776\n",
      "Epoch 25/100\n",
      "5036/5036 [==============================] - 0s 14us/step - loss: 0.0778 - acc: 0.9778\n",
      "Epoch 26/100\n",
      "5036/5036 [==============================] - 0s 15us/step - loss: 0.0791 - acc: 0.9786\n",
      "Epoch 27/100\n",
      "5036/5036 [==============================] - 0s 14us/step - loss: 0.0779 - acc: 0.9778\n",
      "Epoch 28/100\n",
      "5036/5036 [==============================] - 0s 14us/step - loss: 0.0728 - acc: 0.9774\n",
      "Epoch 29/100\n",
      "5036/5036 [==============================] - 0s 14us/step - loss: 0.0759 - acc: 0.9788\n",
      "Epoch 30/100\n",
      "5036/5036 [==============================] - 0s 14us/step - loss: 0.0694 - acc: 0.9797\n",
      "Epoch 31/100\n",
      "5036/5036 [==============================] - 0s 14us/step - loss: 0.0730 - acc: 0.9793\n",
      "Epoch 32/100\n",
      "5036/5036 [==============================] - 0s 14us/step - loss: 0.0736 - acc: 0.9788\n",
      "Epoch 33/100\n",
      "5036/5036 [==============================] - 0s 15us/step - loss: 0.0682 - acc: 0.9778\n",
      "Epoch 34/100\n",
      "5036/5036 [==============================] - 0s 14us/step - loss: 0.0713 - acc: 0.9803\n",
      "Epoch 35/100\n",
      "5036/5036 [==============================] - 0s 14us/step - loss: 0.0678 - acc: 0.9805\n",
      "Epoch 36/100\n",
      "5036/5036 [==============================] - 0s 14us/step - loss: 0.0718 - acc: 0.9766\n",
      "Epoch 37/100\n",
      "5036/5036 [==============================] - 0s 15us/step - loss: 0.0639 - acc: 0.9795\n",
      "Epoch 38/100\n",
      "5036/5036 [==============================] - 0s 15us/step - loss: 0.0684 - acc: 0.9784\n",
      "Epoch 39/100\n",
      "5036/5036 [==============================] - 0s 15us/step - loss: 0.0671 - acc: 0.9792\n",
      "Epoch 40/100\n",
      "5036/5036 [==============================] - 0s 14us/step - loss: 0.0669 - acc: 0.9790\n",
      "Epoch 41/100\n",
      "5036/5036 [==============================] - 0s 14us/step - loss: 0.0662 - acc: 0.9823\n",
      "Epoch 42/100\n",
      "5036/5036 [==============================] - 0s 14us/step - loss: 0.0666 - acc: 0.9797\n",
      "Epoch 43/100\n",
      "5036/5036 [==============================] - 0s 14us/step - loss: 0.0608 - acc: 0.9817\n",
      "Epoch 44/100\n",
      "5036/5036 [==============================] - 0s 14us/step - loss: 0.0603 - acc: 0.9827\n",
      "Epoch 45/100\n",
      "5036/5036 [==============================] - 0s 15us/step - loss: 0.0596 - acc: 0.9823\n",
      "Epoch 46/100\n",
      "5036/5036 [==============================] - 0s 14us/step - loss: 0.0597 - acc: 0.9823\n",
      "Epoch 47/100\n",
      "5036/5036 [==============================] - 0s 14us/step - loss: 0.0607 - acc: 0.9823\n",
      "Epoch 48/100\n",
      "5036/5036 [==============================] - 0s 14us/step - loss: 0.0589 - acc: 0.9813\n",
      "Epoch 49/100\n",
      "5036/5036 [==============================] - 0s 14us/step - loss: 0.0651 - acc: 0.9792\n",
      "Epoch 50/100\n",
      "5036/5036 [==============================] - 0s 15us/step - loss: 0.0566 - acc: 0.9841\n",
      "Epoch 51/100\n",
      "5036/5036 [==============================] - 0s 15us/step - loss: 0.0660 - acc: 0.9799\n",
      "Epoch 52/100\n",
      "5036/5036 [==============================] - 0s 15us/step - loss: 0.0558 - acc: 0.9833\n",
      "Epoch 53/100\n",
      "5036/5036 [==============================] - 0s 14us/step - loss: 0.0612 - acc: 0.9793\n",
      "Epoch 54/100\n",
      "5036/5036 [==============================] - 0s 14us/step - loss: 0.0548 - acc: 0.9849\n",
      "Epoch 55/100\n",
      "5036/5036 [==============================] - 0s 14us/step - loss: 0.0533 - acc: 0.9847\n",
      "Epoch 56/100\n",
      "5036/5036 [==============================] - 0s 15us/step - loss: 0.0538 - acc: 0.9853\n",
      "Epoch 57/100\n",
      "5036/5036 [==============================] - 0s 14us/step - loss: 0.0574 - acc: 0.9839\n",
      "Epoch 58/100\n",
      "5036/5036 [==============================] - 0s 14us/step - loss: 0.0598 - acc: 0.9835\n",
      "Epoch 59/100\n",
      "5036/5036 [==============================] - 0s 14us/step - loss: 0.0557 - acc: 0.9827\n",
      "Epoch 60/100\n",
      "5036/5036 [==============================] - 0s 14us/step - loss: 0.0513 - acc: 0.9865\n",
      "Epoch 61/100\n",
      "5036/5036 [==============================] - 0s 14us/step - loss: 0.0520 - acc: 0.9847\n",
      "Epoch 62/100\n",
      "5036/5036 [==============================] - 0s 15us/step - loss: 0.0532 - acc: 0.9825\n",
      "Epoch 63/100\n",
      "5036/5036 [==============================] - 0s 14us/step - loss: 0.0538 - acc: 0.9839\n",
      "Epoch 64/100\n",
      "5036/5036 [==============================] - 0s 14us/step - loss: 0.0523 - acc: 0.9841\n",
      "Epoch 65/100\n",
      "5036/5036 [==============================] - 0s 14us/step - loss: 0.0528 - acc: 0.9837\n",
      "Epoch 66/100\n",
      "5036/5036 [==============================] - 0s 15us/step - loss: 0.0508 - acc: 0.9857\n",
      "Epoch 67/100\n",
      "5036/5036 [==============================] - 0s 14us/step - loss: 0.0516 - acc: 0.9855\n",
      "Epoch 68/100\n",
      "5036/5036 [==============================] - 0s 15us/step - loss: 0.0525 - acc: 0.9837\n",
      "Epoch 69/100\n",
      "5036/5036 [==============================] - 0s 14us/step - loss: 0.0492 - acc: 0.9853\n",
      "Epoch 70/100\n",
      "5036/5036 [==============================] - 0s 14us/step - loss: 0.0470 - acc: 0.9859\n",
      "Epoch 71/100\n",
      "5036/5036 [==============================] - 0s 14us/step - loss: 0.0505 - acc: 0.9845\n",
      "Epoch 72/100\n",
      "5036/5036 [==============================] - 0s 14us/step - loss: 0.0509 - acc: 0.9847\n",
      "Epoch 73/100\n",
      "5036/5036 [==============================] - 0s 15us/step - loss: 0.0482 - acc: 0.9869\n",
      "Epoch 74/100\n",
      "5036/5036 [==============================] - 0s 14us/step - loss: 0.0483 - acc: 0.9865\n",
      "Epoch 75/100\n",
      "5036/5036 [==============================] - 0s 14us/step - loss: 0.0516 - acc: 0.9837\n",
      "Epoch 76/100\n",
      "5036/5036 [==============================] - 0s 15us/step - loss: 0.0482 - acc: 0.9839\n",
      "Epoch 77/100\n",
      "5036/5036 [==============================] - 0s 14us/step - loss: 0.0467 - acc: 0.9875\n",
      "Epoch 78/100\n",
      "5036/5036 [==============================] - 0s 15us/step - loss: 0.0432 - acc: 0.9881\n",
      "Epoch 79/100\n",
      "5036/5036 [==============================] - 0s 14us/step - loss: 0.0449 - acc: 0.9881\n",
      "Epoch 80/100\n",
      "5036/5036 [==============================] - 0s 14us/step - loss: 0.0438 - acc: 0.9861\n",
      "Epoch 81/100\n",
      "5036/5036 [==============================] - 0s 15us/step - loss: 0.0475 - acc: 0.9863\n",
      "Epoch 82/100\n",
      "5036/5036 [==============================] - 0s 15us/step - loss: 0.0446 - acc: 0.9875\n",
      "Epoch 83/100\n"
     ]
    },
    {
     "name": "stdout",
     "output_type": "stream",
     "text": [
      "5036/5036 [==============================] - 0s 14us/step - loss: 0.0454 - acc: 0.9863\n",
      "Epoch 84/100\n",
      "5036/5036 [==============================] - 0s 14us/step - loss: 0.0443 - acc: 0.9863\n",
      "Epoch 85/100\n",
      "5036/5036 [==============================] - 0s 14us/step - loss: 0.0444 - acc: 0.9873\n",
      "Epoch 86/100\n",
      "5036/5036 [==============================] - 0s 14us/step - loss: 0.0426 - acc: 0.9879\n",
      "Epoch 87/100\n",
      "5036/5036 [==============================] - 0s 14us/step - loss: 0.0425 - acc: 0.9885\n",
      "Epoch 88/100\n",
      "5036/5036 [==============================] - 0s 14us/step - loss: 0.0425 - acc: 0.9877\n",
      "Epoch 89/100\n",
      "5036/5036 [==============================] - 0s 14us/step - loss: 0.0446 - acc: 0.9865\n",
      "Epoch 90/100\n",
      "5036/5036 [==============================] - 0s 14us/step - loss: 0.0452 - acc: 0.9863\n",
      "Epoch 91/100\n",
      "5036/5036 [==============================] - 0s 15us/step - loss: 0.0437 - acc: 0.9871\n",
      "Epoch 92/100\n",
      "5036/5036 [==============================] - 0s 14us/step - loss: 0.0433 - acc: 0.9887\n",
      "Epoch 93/100\n",
      "5036/5036 [==============================] - 0s 14us/step - loss: 0.0468 - acc: 0.9851\n",
      "Epoch 94/100\n",
      "5036/5036 [==============================] - 0s 14us/step - loss: 0.0423 - acc: 0.9871\n",
      "Epoch 95/100\n",
      "5036/5036 [==============================] - 0s 14us/step - loss: 0.0477 - acc: 0.9849\n",
      "Epoch 96/100\n",
      "5036/5036 [==============================] - 0s 14us/step - loss: 0.0390 - acc: 0.9887\n",
      "Epoch 97/100\n",
      "5036/5036 [==============================] - 0s 14us/step - loss: 0.0417 - acc: 0.9887\n",
      "Epoch 98/100\n",
      "5036/5036 [==============================] - 0s 14us/step - loss: 0.0396 - acc: 0.9897\n",
      "Epoch 99/100\n",
      "5036/5036 [==============================] - 0s 15us/step - loss: 0.0418 - acc: 0.9883\n",
      "Epoch 100/100\n",
      "5036/5036 [==============================] - 0s 14us/step - loss: 0.0360 - acc: 0.9873\n"
     ]
    },
    {
     "data": {
      "text/plain": [
       "<keras.callbacks.History at 0x7f6d22319080>"
      ]
     },
     "execution_count": 30,
     "metadata": {},
     "output_type": "execute_result"
    }
   ],
   "source": [
    "model.fit(train_X, train_y, batch_size=128, epochs=100)"
   ]
  },
  {
   "cell_type": "code",
   "execution_count": null,
   "metadata": {},
   "outputs": [],
   "source": [
    "model.evaluate"
   ]
  }
 ],
 "metadata": {
  "kernelspec": {
   "display_name": "Python 3",
   "language": "python",
   "name": "python3"
  },
  "language_info": {
   "codemirror_mode": {
    "name": "ipython",
    "version": 3
   },
   "file_extension": ".py",
   "mimetype": "text/x-python",
   "name": "python",
   "nbconvert_exporter": "python",
   "pygments_lexer": "ipython3",
   "version": "3.6.6"
  }
 },
 "nbformat": 4,
 "nbformat_minor": 1
}
