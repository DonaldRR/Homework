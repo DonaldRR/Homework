{
 "cells": [
  {
   "cell_type": "code",
   "execution_count": 1,
   "metadata": {},
   "outputs": [],
   "source": [
    "import numpy as np\n",
    "import pandas as pd"
   ]
  },
  {
   "cell_type": "code",
   "execution_count": 2,
   "metadata": {},
   "outputs": [],
   "source": [
    "data_dir = '/home/donald/Homework/9.26/Anuran_Calls_(MFCCs)/anuran_data.csv'\n",
    "df = pd.read_csv(data_dir)"
   ]
  },
  {
   "cell_type": "code",
   "execution_count": 3,
   "metadata": {},
   "outputs": [
    {
     "data": {
      "text/html": [
       "<div>\n",
       "<style scoped>\n",
       "    .dataframe tbody tr th:only-of-type {\n",
       "        vertical-align: middle;\n",
       "    }\n",
       "\n",
       "    .dataframe tbody tr th {\n",
       "        vertical-align: top;\n",
       "    }\n",
       "\n",
       "    .dataframe thead th {\n",
       "        text-align: right;\n",
       "    }\n",
       "</style>\n",
       "<table border=\"1\" class=\"dataframe\">\n",
       "  <thead>\n",
       "    <tr style=\"text-align: right;\">\n",
       "      <th></th>\n",
       "      <th>Unnamed: 0</th>\n",
       "      <th>MFCCs_ 1</th>\n",
       "      <th>MFCCs_ 2</th>\n",
       "      <th>MFCCs_ 3</th>\n",
       "      <th>MFCCs_ 4</th>\n",
       "      <th>MFCCs_ 5</th>\n",
       "      <th>MFCCs_ 6</th>\n",
       "      <th>MFCCs_ 7</th>\n",
       "      <th>MFCCs_ 8</th>\n",
       "      <th>MFCCs_ 9</th>\n",
       "      <th>...</th>\n",
       "      <th>MFCCs_14</th>\n",
       "      <th>MFCCs_15</th>\n",
       "      <th>MFCCs_16</th>\n",
       "      <th>MFCCs_17</th>\n",
       "      <th>MFCCs_18</th>\n",
       "      <th>MFCCs_19</th>\n",
       "      <th>MFCCs_20</th>\n",
       "      <th>MFCCs_21</th>\n",
       "      <th>MFCCs_22</th>\n",
       "      <th>labels</th>\n",
       "    </tr>\n",
       "  </thead>\n",
       "  <tbody>\n",
       "    <tr>\n",
       "      <th>2655</th>\n",
       "      <td>2655</td>\n",
       "      <td>1.0</td>\n",
       "      <td>0.347139</td>\n",
       "      <td>0.381465</td>\n",
       "      <td>0.538759</td>\n",
       "      <td>0.134316</td>\n",
       "      <td>-0.000815</td>\n",
       "      <td>-0.034167</td>\n",
       "      <td>0.083649</td>\n",
       "      <td>0.288394</td>\n",
       "      <td>...</td>\n",
       "      <td>-0.172389</td>\n",
       "      <td>-0.258070</td>\n",
       "      <td>0.131008</td>\n",
       "      <td>0.133632</td>\n",
       "      <td>-0.087104</td>\n",
       "      <td>-0.122463</td>\n",
       "      <td>-0.055540</td>\n",
       "      <td>0.085973</td>\n",
       "      <td>0.193022</td>\n",
       "      <td>8</td>\n",
       "    </tr>\n",
       "    <tr>\n",
       "      <th>4224</th>\n",
       "      <td>4224</td>\n",
       "      <td>1.0</td>\n",
       "      <td>0.161972</td>\n",
       "      <td>0.185300</td>\n",
       "      <td>0.467311</td>\n",
       "      <td>0.055418</td>\n",
       "      <td>-0.061862</td>\n",
       "      <td>-0.118924</td>\n",
       "      <td>0.116187</td>\n",
       "      <td>0.353304</td>\n",
       "      <td>...</td>\n",
       "      <td>-0.121469</td>\n",
       "      <td>-0.274534</td>\n",
       "      <td>0.069707</td>\n",
       "      <td>0.205625</td>\n",
       "      <td>-0.012080</td>\n",
       "      <td>-0.129188</td>\n",
       "      <td>-0.121251</td>\n",
       "      <td>0.083246</td>\n",
       "      <td>0.186970</td>\n",
       "      <td>8</td>\n",
       "    </tr>\n",
       "    <tr>\n",
       "      <th>7023</th>\n",
       "      <td>7023</td>\n",
       "      <td>1.0</td>\n",
       "      <td>0.372349</td>\n",
       "      <td>0.314135</td>\n",
       "      <td>0.251507</td>\n",
       "      <td>-0.012689</td>\n",
       "      <td>0.034633</td>\n",
       "      <td>0.161027</td>\n",
       "      <td>0.058385</td>\n",
       "      <td>-0.068520</td>\n",
       "      <td>...</td>\n",
       "      <td>0.043635</td>\n",
       "      <td>0.023802</td>\n",
       "      <td>-0.023407</td>\n",
       "      <td>-0.010057</td>\n",
       "      <td>0.013783</td>\n",
       "      <td>0.017942</td>\n",
       "      <td>0.008164</td>\n",
       "      <td>0.002055</td>\n",
       "      <td>-0.000482</td>\n",
       "      <td>0</td>\n",
       "    </tr>\n",
       "  </tbody>\n",
       "</table>\n",
       "<p>3 rows × 24 columns</p>\n",
       "</div>"
      ],
      "text/plain": [
       "      Unnamed: 0  MFCCs_ 1  MFCCs_ 2  MFCCs_ 3  MFCCs_ 4  MFCCs_ 5  MFCCs_ 6  \\\n",
       "2655        2655       1.0  0.347139  0.381465  0.538759  0.134316 -0.000815   \n",
       "4224        4224       1.0  0.161972  0.185300  0.467311  0.055418 -0.061862   \n",
       "7023        7023       1.0  0.372349  0.314135  0.251507 -0.012689  0.034633   \n",
       "\n",
       "      MFCCs_ 7  MFCCs_ 8  MFCCs_ 9   ...    MFCCs_14  MFCCs_15  MFCCs_16  \\\n",
       "2655 -0.034167  0.083649  0.288394   ...   -0.172389 -0.258070  0.131008   \n",
       "4224 -0.118924  0.116187  0.353304   ...   -0.121469 -0.274534  0.069707   \n",
       "7023  0.161027  0.058385 -0.068520   ...    0.043635  0.023802 -0.023407   \n",
       "\n",
       "      MFCCs_17  MFCCs_18  MFCCs_19  MFCCs_20  MFCCs_21  MFCCs_22  labels  \n",
       "2655  0.133632 -0.087104 -0.122463 -0.055540  0.085973  0.193022       8  \n",
       "4224  0.205625 -0.012080 -0.129188 -0.121251  0.083246  0.186970       8  \n",
       "7023 -0.010057  0.013783  0.017942  0.008164  0.002055 -0.000482       0  \n",
       "\n",
       "[3 rows x 24 columns]"
      ]
     },
     "execution_count": 3,
     "metadata": {},
     "output_type": "execute_result"
    }
   ],
   "source": [
    "df.sample(3)"
   ]
  },
  {
   "cell_type": "code",
   "execution_count": 4,
   "metadata": {},
   "outputs": [],
   "source": [
    "df = df.drop(columns=['Unnamed: 0'])"
   ]
  },
  {
   "cell_type": "code",
   "execution_count": 5,
   "metadata": {},
   "outputs": [],
   "source": [
    "y = df.labels.values\n",
    "num_class = len(np.unique(y))"
   ]
  },
  {
   "cell_type": "code",
   "execution_count": 6,
   "metadata": {},
   "outputs": [],
   "source": [
    "y = np.reshape(y, (-1, 1))"
   ]
  },
  {
   "cell_type": "code",
   "execution_count": 7,
   "metadata": {},
   "outputs": [],
   "source": [
    "from sklearn.preprocessing import OneHotEncoder"
   ]
  },
  {
   "cell_type": "code",
   "execution_count": 8,
   "metadata": {},
   "outputs": [],
   "source": [
    "enc = OneHotEncoder()"
   ]
  },
  {
   "cell_type": "code",
   "execution_count": 9,
   "metadata": {
    "scrolled": true
   },
   "outputs": [
    {
     "data": {
      "text/plain": [
       "(7195, 10)"
      ]
     },
     "execution_count": 9,
     "metadata": {},
     "output_type": "execute_result"
    }
   ],
   "source": [
    "enc.fit(y)\n",
    "y = enc.transform(y).toarray()\n",
    "y.shape"
   ]
  },
  {
   "cell_type": "code",
   "execution_count": 10,
   "metadata": {},
   "outputs": [],
   "source": [
    "import matplotlib.pyplot as plt"
   ]
  },
  {
   "cell_type": "code",
   "execution_count": 11,
   "metadata": {
    "scrolled": true
   },
   "outputs": [
    {
     "data": {
      "text/plain": [
       "array([[<matplotlib.axes._subplots.AxesSubplot object at 0x7fc87a247c50>,\n",
       "        <matplotlib.axes._subplots.AxesSubplot object at 0x7fc878213e80>,\n",
       "        <matplotlib.axes._subplots.AxesSubplot object at 0x7fc8781c6470>,\n",
       "        <matplotlib.axes._subplots.AxesSubplot object at 0x7fc87816eb00>,\n",
       "        <matplotlib.axes._subplots.AxesSubplot object at 0x7fc87819e1d0>],\n",
       "       [<matplotlib.axes._subplots.AxesSubplot object at 0x7fc87819e208>,\n",
       "        <matplotlib.axes._subplots.AxesSubplot object at 0x7fc8780ecef0>,\n",
       "        <matplotlib.axes._subplots.AxesSubplot object at 0x7fc87811c5c0>,\n",
       "        <matplotlib.axes._subplots.AxesSubplot object at 0x7fc8780c5c50>,\n",
       "        <matplotlib.axes._subplots.AxesSubplot object at 0x7fc878076320>],\n",
       "       [<matplotlib.axes._subplots.AxesSubplot object at 0x7fc87809d9b0>,\n",
       "        <matplotlib.axes._subplots.AxesSubplot object at 0x7fc87804f080>,\n",
       "        <matplotlib.axes._subplots.AxesSubplot object at 0x7fc877ff6710>,\n",
       "        <matplotlib.axes._subplots.AxesSubplot object at 0x7fc87801eda0>,\n",
       "        <matplotlib.axes._subplots.AxesSubplot object at 0x7fc877fd0470>],\n",
       "       [<matplotlib.axes._subplots.AxesSubplot object at 0x7fc877f77b00>,\n",
       "        <matplotlib.axes._subplots.AxesSubplot object at 0x7fc877fa81d0>,\n",
       "        <matplotlib.axes._subplots.AxesSubplot object at 0x7fc877f4e860>,\n",
       "        <matplotlib.axes._subplots.AxesSubplot object at 0x7fc877ef7ef0>,\n",
       "        <matplotlib.axes._subplots.AxesSubplot object at 0x7fc877f275c0>],\n",
       "       [<matplotlib.axes._subplots.AxesSubplot object at 0x7fc877ed0c50>,\n",
       "        <matplotlib.axes._subplots.AxesSubplot object at 0x7fc877e82320>,\n",
       "        <matplotlib.axes._subplots.AxesSubplot object at 0x7fc877e299b0>,\n",
       "        <matplotlib.axes._subplots.AxesSubplot object at 0x7fc877e59080>,\n",
       "        <matplotlib.axes._subplots.AxesSubplot object at 0x7fc877dff710>]],\n",
       "      dtype=object)"
      ]
     },
     "execution_count": 11,
     "metadata": {},
     "output_type": "execute_result"
    },
    {
     "data": {
      "image/png": "[encoded data removed]",
      "text/plain": [
       "<Figure size 432x288 with 25 Axes>"
      ]
     },
     "metadata": {
      "needs_background": "light"
     },
     "output_type": "display_data"
    }
   ],
   "source": [
    "df.iloc[:,0:22].hist()"
   ]
  },
  {
   "cell_type": "code",
   "execution_count": 12,
   "metadata": {},
   "outputs": [
    {
     "data": {
      "text/plain": [
       "(7195, 22)"
      ]
     },
     "execution_count": 12,
     "metadata": {},
     "output_type": "execute_result"
    }
   ],
   "source": [
    "from sklearn.preprocessing import normalize\n",
    "X = normalize(df.iloc[:,0:22].values)\n",
    "X.shape"
   ]
  },
  {
   "cell_type": "code",
   "execution_count": 13,
   "metadata": {},
   "outputs": [],
   "source": [
    "import tensorflow as tf"
   ]
  },
  {
   "cell_type": "code",
   "execution_count": 14,
   "metadata": {},
   "outputs": [
    {
     "name": "stderr",
     "output_type": "stream",
     "text": [
      "Using TensorFlow backend.\n"
     ]
    }
   ],
   "source": [
    "from keras.models import Sequential\n",
    "from keras.layers import Input, Dense, Dropout, Softmax"
   ]
  },
  {
   "cell_type": "code",
   "execution_count": 19,
   "metadata": {},
   "outputs": [
    {
     "name": "stdout",
     "output_type": "stream",
     "text": [
      "_________________________________________________________________\n",
      "Layer (type)                 Output Shape              Param #   \n",
      "=================================================================\n",
      "dense_5 (Dense)              (None, 20)                460       \n",
      "_________________________________________________________________\n",
      "dense_6 (Dense)              (None, 40)                840       \n",
      "_________________________________________________________________\n",
      "dense_7 (Dense)              (None, 40)                1640      \n",
      "_________________________________________________________________\n",
      "dropout_2 (Dropout)          (None, 40)                0         \n",
      "_________________________________________________________________\n",
      "dense_8 (Dense)              (None, 10)                410       \n",
      "=================================================================\n",
      "Total params: 3,350\n",
      "Trainable params: 3,350\n",
      "Non-trainable params: 0\n",
      "_________________________________________________________________\n"
     ]
    }
   ],
   "source": [
    "model = Sequential()\n",
    "model.add(Dense(20, input_shape=(22,)))\n",
    "model.add(Dense(40, activation = 'relu'))\n",
    "model.add(Dense(40, activation='relu'))\n",
    "model.add(Dropout(0.5))\n",
    "model.add(Dense(num_class, activation='softmax'))\n",
    "model.summary()"
   ]
  },
  {
   "cell_type": "code",
   "execution_count": 20,
   "metadata": {},
   "outputs": [],
   "source": [
    "from sklearn.model_selection import train_test_split\n",
    "train_X, test_X, train_y, test_y = train_test_split(X, y, test_size=0.4)\n",
    "model.compile(optimizer='Adam', loss='categorical_crossentropy', metrics=['accuracy'])"
   ]
  },
  {
   "cell_type": "code",
   "execution_count": 21,
   "metadata": {
    "scrolled": true
   },
   "outputs": [
    {
     "name": "stdout",
     "output_type": "stream",
     "text": [
      "Epoch 1/100\n",
      "4317/4317 [==============================] - 0s 59us/step - loss: 2.0446 - acc: 0.3945\n",
      "Epoch 2/100\n",
      "4317/4317 [==============================] - 0s 14us/step - loss: 1.5521 - acc: 0.4948\n",
      "Epoch 3/100\n",
      "4317/4317 [==============================] - 0s 15us/step - loss: 1.2172 - acc: 0.5888\n",
      "Epoch 4/100\n",
      "4317/4317 [==============================] - 0s 14us/step - loss: 1.0089 - acc: 0.6910\n",
      "Epoch 5/100\n",
      "4317/4317 [==============================] - 0s 14us/step - loss: 0.8711 - acc: 0.7246\n",
      "Epoch 6/100\n",
      "4317/4317 [==============================] - 0s 14us/step - loss: 0.7643 - acc: 0.7498\n",
      "Epoch 7/100\n",
      "4317/4317 [==============================] - 0s 15us/step - loss: 0.6693 - acc: 0.7855\n",
      "Epoch 8/100\n",
      "4317/4317 [==============================] - 0s 14us/step - loss: 0.6036 - acc: 0.8047\n",
      "Epoch 9/100\n",
      "4317/4317 [==============================] - 0s 14us/step - loss: 0.5684 - acc: 0.8235\n",
      "Epoch 10/100\n",
      "4317/4317 [==============================] - 0s 15us/step - loss: 0.5389 - acc: 0.8272\n",
      "Epoch 11/100\n",
      "4317/4317 [==============================] - 0s 15us/step - loss: 0.5007 - acc: 0.8416\n",
      "Epoch 12/100\n",
      "4317/4317 [==============================] - 0s 14us/step - loss: 0.4674 - acc: 0.8596\n",
      "Epoch 13/100\n",
      "4317/4317 [==============================] - 0s 15us/step - loss: 0.4534 - acc: 0.8617\n",
      "Epoch 14/100\n",
      "4317/4317 [==============================] - 0s 15us/step - loss: 0.4133 - acc: 0.8751\n",
      "Epoch 15/100\n",
      "4317/4317 [==============================] - 0s 14us/step - loss: 0.4004 - acc: 0.8754\n",
      "Epoch 16/100\n",
      "4317/4317 [==============================] - 0s 14us/step - loss: 0.3773 - acc: 0.8923\n",
      "Epoch 17/100\n",
      "4317/4317 [==============================] - 0s 13us/step - loss: 0.3667 - acc: 0.8930\n",
      "Epoch 18/100\n",
      "4317/4317 [==============================] - 0s 14us/step - loss: 0.3563 - acc: 0.8981\n",
      "Epoch 19/100\n",
      "4317/4317 [==============================] - 0s 14us/step - loss: 0.3371 - acc: 0.9027\n",
      "Epoch 20/100\n",
      "4317/4317 [==============================] - 0s 14us/step - loss: 0.3324 - acc: 0.9062\n",
      "Epoch 21/100\n",
      "4317/4317 [==============================] - 0s 14us/step - loss: 0.3233 - acc: 0.9073\n",
      "Epoch 22/100\n",
      "4317/4317 [==============================] - 0s 14us/step - loss: 0.3225 - acc: 0.9094\n",
      "Epoch 23/100\n",
      "4317/4317 [==============================] - 0s 14us/step - loss: 0.3003 - acc: 0.9164\n",
      "Epoch 24/100\n",
      "4317/4317 [==============================] - 0s 15us/step - loss: 0.2914 - acc: 0.9148\n",
      "Epoch 25/100\n",
      "4317/4317 [==============================] - 0s 14us/step - loss: 0.2883 - acc: 0.9159\n",
      "Epoch 26/100\n",
      "4317/4317 [==============================] - 0s 14us/step - loss: 0.2933 - acc: 0.9189\n",
      "Epoch 27/100\n",
      "4317/4317 [==============================] - 0s 14us/step - loss: 0.2684 - acc: 0.9240\n",
      "Epoch 28/100\n",
      "4317/4317 [==============================] - 0s 14us/step - loss: 0.2690 - acc: 0.9201\n",
      "Epoch 29/100\n",
      "4317/4317 [==============================] - 0s 14us/step - loss: 0.2611 - acc: 0.9240\n",
      "Epoch 30/100\n",
      "4317/4317 [==============================] - 0s 14us/step - loss: 0.2577 - acc: 0.9300\n",
      "Epoch 31/100\n",
      "4317/4317 [==============================] - 0s 14us/step - loss: 0.2556 - acc: 0.9256\n",
      "Epoch 32/100\n",
      "4317/4317 [==============================] - 0s 14us/step - loss: 0.2573 - acc: 0.9275\n",
      "Epoch 33/100\n",
      "4317/4317 [==============================] - 0s 14us/step - loss: 0.2533 - acc: 0.9287\n",
      "Epoch 34/100\n",
      "4317/4317 [==============================] - 0s 16us/step - loss: 0.2425 - acc: 0.9326\n",
      "Epoch 35/100\n",
      "4317/4317 [==============================] - 0s 16us/step - loss: 0.2450 - acc: 0.9291\n",
      "Epoch 36/100\n",
      "4317/4317 [==============================] - 0s 16us/step - loss: 0.2365 - acc: 0.9331\n",
      "Epoch 37/100\n",
      "4317/4317 [==============================] - 0s 16us/step - loss: 0.2269 - acc: 0.9388\n",
      "Epoch 38/100\n",
      "4317/4317 [==============================] - 0s 14us/step - loss: 0.2377 - acc: 0.9314\n",
      "Epoch 39/100\n",
      "4317/4317 [==============================] - 0s 14us/step - loss: 0.2189 - acc: 0.9393\n",
      "Epoch 40/100\n",
      "4317/4317 [==============================] - 0s 14us/step - loss: 0.2243 - acc: 0.9372\n",
      "Epoch 41/100\n",
      "4317/4317 [==============================] - 0s 15us/step - loss: 0.2266 - acc: 0.9365\n",
      "Epoch 42/100\n",
      "4317/4317 [==============================] - 0s 15us/step - loss: 0.2185 - acc: 0.9347\n",
      "Epoch 43/100\n",
      "4317/4317 [==============================] - 0s 16us/step - loss: 0.2101 - acc: 0.9384\n",
      "Epoch 44/100\n",
      "4317/4317 [==============================] - 0s 16us/step - loss: 0.2082 - acc: 0.9407\n",
      "Epoch 45/100\n",
      "4317/4317 [==============================] - 0s 15us/step - loss: 0.2206 - acc: 0.9335\n",
      "Epoch 46/100\n",
      "4317/4317 [==============================] - 0s 14us/step - loss: 0.1996 - acc: 0.9400\n",
      "Epoch 47/100\n",
      "4317/4317 [==============================] - 0s 14us/step - loss: 0.2059 - acc: 0.9412\n",
      "Epoch 48/100\n",
      "4317/4317 [==============================] - 0s 14us/step - loss: 0.1975 - acc: 0.9416\n",
      "Epoch 49/100\n",
      "4317/4317 [==============================] - 0s 14us/step - loss: 0.1964 - acc: 0.9442\n",
      "Epoch 50/100\n",
      "4317/4317 [==============================] - 0s 15us/step - loss: 0.2045 - acc: 0.9398\n",
      "Epoch 51/100\n",
      "4317/4317 [==============================] - 0s 16us/step - loss: 0.1903 - acc: 0.9423\n",
      "Epoch 52/100\n",
      "4317/4317 [==============================] - 0s 14us/step - loss: 0.1968 - acc: 0.9421\n",
      "Epoch 53/100\n",
      "4317/4317 [==============================] - 0s 14us/step - loss: 0.1922 - acc: 0.9449\n",
      "Epoch 54/100\n",
      "4317/4317 [==============================] - 0s 14us/step - loss: 0.1939 - acc: 0.9446\n",
      "Epoch 55/100\n",
      "4317/4317 [==============================] - 0s 14us/step - loss: 0.1832 - acc: 0.9476\n",
      "Epoch 56/100\n",
      "4317/4317 [==============================] - 0s 14us/step - loss: 0.1846 - acc: 0.9502\n",
      "Epoch 57/100\n",
      "4317/4317 [==============================] - 0s 15us/step - loss: 0.1881 - acc: 0.9432\n",
      "Epoch 58/100\n",
      "4317/4317 [==============================] - 0s 14us/step - loss: 0.1833 - acc: 0.9465\n",
      "Epoch 59/100\n",
      "4317/4317 [==============================] - 0s 14us/step - loss: 0.1834 - acc: 0.9465\n",
      "Epoch 60/100\n",
      "4317/4317 [==============================] - 0s 13us/step - loss: 0.1725 - acc: 0.9495\n",
      "Epoch 61/100\n",
      "4317/4317 [==============================] - 0s 14us/step - loss: 0.1722 - acc: 0.9514\n",
      "Epoch 62/100\n",
      "4317/4317 [==============================] - 0s 14us/step - loss: 0.1798 - acc: 0.9514\n",
      "Epoch 63/100\n",
      "4317/4317 [==============================] - 0s 14us/step - loss: 0.1805 - acc: 0.9493\n",
      "Epoch 64/100\n",
      "4317/4317 [==============================] - 0s 14us/step - loss: 0.1792 - acc: 0.9465\n",
      "Epoch 65/100\n",
      "4317/4317 [==============================] - 0s 14us/step - loss: 0.1722 - acc: 0.9511\n",
      "Epoch 66/100\n",
      "4317/4317 [==============================] - 0s 14us/step - loss: 0.1694 - acc: 0.9518\n",
      "Epoch 67/100\n",
      "4317/4317 [==============================] - 0s 14us/step - loss: 0.1683 - acc: 0.9502\n",
      "Epoch 68/100\n",
      "4317/4317 [==============================] - 0s 14us/step - loss: 0.1698 - acc: 0.9490\n",
      "Epoch 69/100\n",
      "4317/4317 [==============================] - 0s 14us/step - loss: 0.1640 - acc: 0.9502\n",
      "Epoch 70/100\n",
      "4317/4317 [==============================] - 0s 14us/step - loss: 0.1657 - acc: 0.9534\n",
      "Epoch 71/100\n",
      "4317/4317 [==============================] - 0s 14us/step - loss: 0.1603 - acc: 0.9553\n",
      "Epoch 72/100\n",
      "4317/4317 [==============================] - 0s 14us/step - loss: 0.1693 - acc: 0.9532\n",
      "Epoch 73/100\n",
      "4317/4317 [==============================] - 0s 14us/step - loss: 0.1640 - acc: 0.9525\n",
      "Epoch 74/100\n",
      "4317/4317 [==============================] - 0s 14us/step - loss: 0.1620 - acc: 0.9516\n",
      "Epoch 75/100\n",
      "4317/4317 [==============================] - 0s 14us/step - loss: 0.1575 - acc: 0.9555\n",
      "Epoch 76/100\n",
      "4317/4317 [==============================] - 0s 14us/step - loss: 0.1576 - acc: 0.9562\n",
      "Epoch 77/100\n",
      "4317/4317 [==============================] - 0s 14us/step - loss: 0.1589 - acc: 0.9530\n",
      "Epoch 78/100\n",
      "4317/4317 [==============================] - 0s 14us/step - loss: 0.1600 - acc: 0.9539\n",
      "Epoch 79/100\n",
      "4317/4317 [==============================] - 0s 14us/step - loss: 0.1503 - acc: 0.9567\n",
      "Epoch 80/100\n",
      "4317/4317 [==============================] - 0s 14us/step - loss: 0.1596 - acc: 0.9537\n",
      "Epoch 81/100\n",
      "4317/4317 [==============================] - 0s 15us/step - loss: 0.1445 - acc: 0.9590\n",
      "Epoch 82/100\n",
      "4317/4317 [==============================] - 0s 14us/step - loss: 0.1481 - acc: 0.9548\n",
      "Epoch 83/100\n"
     ]
    },
    {
     "name": "stdout",
     "output_type": "stream",
     "text": [
      "4317/4317 [==============================] - 0s 15us/step - loss: 0.1493 - acc: 0.9571\n",
      "Epoch 84/100\n",
      "4317/4317 [==============================] - 0s 15us/step - loss: 0.1414 - acc: 0.9571\n",
      "Epoch 85/100\n",
      "4317/4317 [==============================] - 0s 14us/step - loss: 0.1538 - acc: 0.9565\n",
      "Epoch 86/100\n",
      "4317/4317 [==============================] - 0s 14us/step - loss: 0.1427 - acc: 0.9551\n",
      "Epoch 87/100\n",
      "4317/4317 [==============================] - 0s 14us/step - loss: 0.1375 - acc: 0.9611\n",
      "Epoch 88/100\n",
      "4317/4317 [==============================] - 0s 13us/step - loss: 0.1420 - acc: 0.9620\n",
      "Epoch 89/100\n",
      "4317/4317 [==============================] - 0s 14us/step - loss: 0.1374 - acc: 0.9583\n",
      "Epoch 90/100\n",
      "4317/4317 [==============================] - 0s 14us/step - loss: 0.1407 - acc: 0.9558\n",
      "Epoch 91/100\n",
      "4317/4317 [==============================] - 0s 14us/step - loss: 0.1367 - acc: 0.9595\n",
      "Epoch 92/100\n",
      "4317/4317 [==============================] - 0s 14us/step - loss: 0.1378 - acc: 0.9583\n",
      "Epoch 93/100\n",
      "4317/4317 [==============================] - 0s 14us/step - loss: 0.1366 - acc: 0.9578\n",
      "Epoch 94/100\n",
      "4317/4317 [==============================] - 0s 14us/step - loss: 0.1311 - acc: 0.9641\n",
      "Epoch 95/100\n",
      "4317/4317 [==============================] - 0s 14us/step - loss: 0.1408 - acc: 0.9588\n",
      "Epoch 96/100\n",
      "4317/4317 [==============================] - 0s 13us/step - loss: 0.1389 - acc: 0.9590\n",
      "Epoch 97/100\n",
      "4317/4317 [==============================] - 0s 14us/step - loss: 0.1358 - acc: 0.9611\n",
      "Epoch 98/100\n",
      "4317/4317 [==============================] - 0s 13us/step - loss: 0.1352 - acc: 0.9597\n",
      "Epoch 99/100\n",
      "4317/4317 [==============================] - 0s 14us/step - loss: 0.1314 - acc: 0.9611\n",
      "Epoch 100/100\n",
      "4317/4317 [==============================] - 0s 14us/step - loss: 0.1361 - acc: 0.9632\n"
     ]
    },
    {
     "data": {
      "text/plain": [
       "<keras.callbacks.History at 0x7fc81e0979b0>"
      ]
     },
     "execution_count": 21,
     "metadata": {},
     "output_type": "execute_result"
    }
   ],
   "source": [
    "model.fit(train_X, train_y, batch_size=128, epochs=100)"
   ]
  },
  {
   "cell_type": "code",
   "execution_count": 22,
   "metadata": {},
   "outputs": [
    {
     "name": "stdout",
     "output_type": "stream",
     "text": [
      "2878/2878 [==============================] - 0s 26us/step\n"
     ]
    },
    {
     "data": {
      "text/plain": [
       "[0.101305956508941, 0.9732453092425295]"
      ]
     },
     "execution_count": 22,
     "metadata": {},
     "output_type": "execute_result"
    }
   ],
   "source": [
    "model.evaluate(test_X, test_y)"
   ]
  },
  {
   "cell_type": "code",
   "execution_count": null,
   "metadata": {},
   "outputs": [],
   "source": []
  }
 ],
 "metadata": {
  "kernelspec": {
   "display_name": "Python 3",
   "language": "python",
   "name": "python3"
  },
  "language_info": {
   "codemirror_mode": {
    "name": "ipython",
    "version": 3
   },
   "file_extension": ".py",
   "mimetype": "text/x-python",
   "name": "python",
   "nbconvert_exporter": "python",
   "pygments_lexer": "ipython3",
   "version": "3.6.6"
  }
 },
 "nbformat": 4,
 "nbformat_minor": 1
}
