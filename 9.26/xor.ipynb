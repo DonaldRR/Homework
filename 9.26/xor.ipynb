{
 "cells": [
  {
   "cell_type": "code",
   "execution_count": 1,
   "metadata": {},
   "outputs": [],
   "source": [
    "from sklearn.neural_network import MLPClassifier\n",
    "import numpy as np"
   ]
  },
  {
   "cell_type": "code",
   "execution_count": 2,
   "metadata": {},
   "outputs": [],
   "source": [
    "X = [[0.,0.], [0.,1.], [1., 0.], [1., 1.]]\n",
    "y = [0, 1, 1, 0]"
   ]
  },
  {
   "cell_type": "code",
   "execution_count": 4,
   "metadata": {},
   "outputs": [
    {
     "name": "stdout",
     "output_type": "stream",
     "text": [
      "acc_rate beyond training MLPClassifier same parameterized for 1000 time:\n"
     ]
    }
   ],
   "source": [
    "run_times = 1000\n",
    "acc_num = 0\n",
    "for i in range(run_times):\n",
    "    clf = MLPClassifier(solver='lbfgs', hidden_layer_sizes=(2), activation='logistic', alpha=0.002, random_state=2)\n",
    "    clf.fit(X, y)\n",
    "    if np.array_equal(clf.predict(X), [0, 1, 1, 0]):\n",
    "        acc_num += 1\n",
    "print('acc_rate beyond training MLPClassifier same parameterized for {} time:'.format(run_times, acc_num / run_times))"
   ]
  },
  {
   "cell_type": "code",
   "execution_count": 6,
   "metadata": {},
   "outputs": [
    {
     "data": {
      "text/plain": [
       "[array([[ 5.12522891, -5.08959333],\n",
       "        [-5.12354702,  5.09072276]]), array([[9.34316978],\n",
       "        [9.34208937]])]"
      ]
     },
     "execution_count": 6,
     "metadata": {},
     "output_type": "execute_result"
    }
   ],
   "source": [
    "clf.coefs_"
   ]
  },
  {
   "cell_type": "code",
   "execution_count": null,
   "metadata": {},
   "outputs": [],
   "source": []
  }
 ],
 "metadata": {
  "kernelspec": {
   "display_name": "Python 3",
   "language": "python",
   "name": "python3"
  },
  "language_info": {
   "codemirror_mode": {
    "name": "ipython",
    "version": 3
   },
   "file_extension": ".py",
   "mimetype": "text/x-python",
   "name": "python",
   "nbconvert_exporter": "python",
   "pygments_lexer": "ipython3",
   "version": "3.6.6"
  }
 },
 "nbformat": 4,
 "nbformat_minor": 2
}
