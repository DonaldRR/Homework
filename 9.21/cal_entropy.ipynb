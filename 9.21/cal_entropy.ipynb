{
 "cells": [
  {
   "cell_type": "code",
   "execution_count": 1,
   "metadata": {},
   "outputs": [],
   "source": [
    "import numpy as np\n",
    "from DecisionTree import class_counts, entropy\n",
    "\n",
    "data = [[1,0,0,1],\n",
    "        [0,1,0,1],\n",
    "        [0,0,0,0],\n",
    "        [1,0,1,0],\n",
    "        [0,0,0,0],\n",
    "        [1,1,0,1],\n",
    "        [0,1,1,0],\n",
    "        [1,0,0,1],\n",
    "        [0,0,0,0],\n",
    "        [1,0,0,1]]"
   ]
  },
  {
   "cell_type": "code",
   "execution_count": 9,
   "metadata": {},
   "outputs": [],
   "source": [
    "def new_entropy(rows, attribute_idx):\n",
    "        positives = []\n",
    "        negatives = []\n",
    "        len_rows = float(len(rows))\n",
    "\n",
    "        for row in rows:\n",
    "                if row[attribute_idx] == 1:\n",
    "                        positives.append(row)\n",
    "                else:\n",
    "                        negatives.append(row)\n",
    "\n",
    "        return positives, negatives, len(positives)/len_rows * entropy(positives) + len(negatives)/len_rows * entropy(negatives)"
   ]
  },
  {
   "cell_type": "code",
   "execution_count": 28,
   "metadata": {},
   "outputs": [
    {
     "name": "stdout",
     "output_type": "stream",
     "text": [
      "[]\n",
      "[[0, 0, 0, 0], [0, 0, 0, 0], [0, 0, 0, 0]]\n",
      "0.0\n"
     ]
    }
   ],
   "source": [
    "pos, neg, etp = new_entropy([[0, 0, 0, 0], [0, 0, 0, 0], [0, 0, 0, 0]],3)\n",
    "print(pos)\n",
    "print(neg)\n",
    "print(etp)"
   ]
  },
  {
   "cell_type": "code",
   "execution_count": 13,
   "metadata": {},
   "outputs": [
    {
     "data": {
      "text/plain": [
       "0.7219280948873623"
      ]
     },
     "execution_count": 13,
     "metadata": {},
     "output_type": "execute_result"
    }
   ],
   "source": [
    "etp"
   ]
  },
  {
   "cell_type": "code",
   "execution_count": 12,
   "metadata": {},
   "outputs": [
    {
     "data": {
      "text/plain": [
       "[[0, 1, 0, 1], [0, 0, 0, 0], [0, 0, 0, 0], [0, 1, 1, 0], [0, 0, 0, 0]]"
      ]
     },
     "execution_count": 12,
     "metadata": {},
     "output_type": "execute_result"
    }
   ],
   "source": [
    "neg"
   ]
  },
  {
   "cell_type": "code",
   "execution_count": null,
   "metadata": {},
   "outputs": [],
   "source": []
  }
 ],
 "metadata": {
  "kernelspec": {
   "display_name": "Python 3",
   "language": "python",
   "name": "python3"
  },
  "language_info": {
   "codemirror_mode": {
    "name": "ipython",
    "version": 3
   },
   "file_extension": ".py",
   "mimetype": "text/x-python",
   "name": "python",
   "nbconvert_exporter": "python",
   "pygments_lexer": "ipython3",
   "version": "3.6.5"
  }
 },
 "nbformat": 4,
 "nbformat_minor": 2
}
