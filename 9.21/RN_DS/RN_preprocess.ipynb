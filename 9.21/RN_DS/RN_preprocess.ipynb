{
 "cells": [
  {
   "cell_type": "code",
   "execution_count": 1,
   "metadata": {},
   "outputs": [],
   "source": [
    "import pandas as pd\n",
    "import numpy as np\n",
    "from tqdm import tqdm\n",
    "\n",
    "f_data = open('Relation_Network (Directed).data')\n",
    "data = []"
   ]
  },
  {
   "cell_type": "code",
   "execution_count": 2,
   "metadata": {},
   "outputs": [
    {
     "name": "stderr",
     "output_type": "stream",
     "text": [
      "100%|██████████| 53413/53413 [00:00<00:00, 305412.79it/s]\n"
     ]
    }
   ],
   "source": [
    "for l in tqdm(f_data.readlines()):\n",
    "    l = l[:-1].split(',')\n",
    "    data.append(l[1:])\n",
    "#     print(np.array(l[1:], dtype=np.float))"
   ]
  },
  {
   "cell_type": "code",
   "execution_count": 3,
   "metadata": {},
   "outputs": [],
   "source": [
    "f_names = open('RN_names')\n",
    "names = []"
   ]
  },
  {
   "cell_type": "code",
   "execution_count": 4,
   "metadata": {
    "scrolled": true
   },
   "outputs": [
    {
     "name": "stderr",
     "output_type": "stream",
     "text": [
      "100%|██████████| 24/24 [00:00<00:00, 14508.98it/s]\n"
     ]
    }
   ],
   "source": [
    "for l in tqdm(f_names.readlines()):\n",
    "    l = l.split(' ')[0].split('\\t')\n",
    "    names.append(l[1])"
   ]
  },
  {
   "cell_type": "code",
   "execution_count": 5,
   "metadata": {},
   "outputs": [],
   "source": [
    "data = np.array(data, dtype=np.float)"
   ]
  },
  {
   "cell_type": "code",
   "execution_count": 6,
   "metadata": {},
   "outputs": [
    {
     "data": {
      "text/plain": [
       "(53413, 23)"
      ]
     },
     "execution_count": 6,
     "metadata": {},
     "output_type": "execute_result"
    }
   ],
   "source": [
    "data.shape"
   ]
  },
  {
   "cell_type": "code",
   "execution_count": 7,
   "metadata": {},
   "outputs": [],
   "source": [
    "names = np.array(names[1:])"
   ]
  },
  {
   "cell_type": "code",
   "execution_count": 8,
   "metadata": {},
   "outputs": [
    {
     "data": {
      "text/plain": [
       "(23,)"
      ]
     },
     "execution_count": 8,
     "metadata": {},
     "output_type": "execute_result"
    }
   ],
   "source": [
    "names.shape"
   ]
  },
  {
   "cell_type": "code",
   "execution_count": 9,
   "metadata": {},
   "outputs": [
    {
     "data": {
      "text/plain": [
       "array([[26.        , 43.        ,  2.        , ...,  0.37519895,\n",
       "         2.21011373,  0.22115385],\n",
       "       [27.        , 52.        ,  2.        , ...,  0.39988044,\n",
       "         2.16868666,  0.29019694],\n",
       "       [26.        , 53.        ,  2.        , ...,  0.43036751,\n",
       "         1.86428806,  0.23031135],\n",
       "       ...,\n",
       "       [ 5.        ,  6.        ,  1.        , ...,  0.59333333,\n",
       "         1.15      ,  0.16666667],\n",
       "       [16.        , 24.        ,  3.        , ...,  0.45441177,\n",
       "         0.9234375 ,  0.18854167],\n",
       "       [11.        , 10.        ,  2.        , ...,  0.46861472,\n",
       "         0.98939394,  0.06818182]])"
      ]
     },
     "execution_count": 9,
     "metadata": {},
     "output_type": "execute_result"
    }
   ],
   "source": [
    "data"
   ]
  },
  {
   "cell_type": "code",
   "execution_count": 9,
   "metadata": {},
   "outputs": [],
   "source": [
    "np.save('RN_data', data)\n",
    "np.save('RN_names', names)"
   ]
  }
 ],
 "metadata": {
  "kernelspec": {
   "display_name": "Python 3",
   "language": "python",
   "name": "python3"
  },
  "language_info": {
   "codemirror_mode": {
    "name": "ipython",
    "version": 3
   },
   "file_extension": ".py",
   "mimetype": "text/x-python",
   "name": "python",
   "nbconvert_exporter": "python",
   "pygments_lexer": "ipython3",
   "version": "3.6.6"
  }
 },
 "nbformat": 4,
 "nbformat_minor": 2
}
