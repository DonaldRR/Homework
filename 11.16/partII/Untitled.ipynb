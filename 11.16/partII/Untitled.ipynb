{
 "cells": [
  {
   "cell_type": "code",
   "execution_count": 1,
   "metadata": {},
   "outputs": [],
   "source": [
    "%matplotlib inline\n",
    "import matplotlib\n",
    "from matplotlib import pyplot as plt\n",
    "from tqdm import tqdm\n",
    "from config import *\n",
    "from utils import *"
   ]
  },
  {
   "cell_type": "code",
   "execution_count": 2,
   "metadata": {},
   "outputs": [],
   "source": [
    "jsons = parseJson(JSON_URL)\n",
    "\n",
    "jsons_ = {}\n",
    "for t in jsons:\n",
    "    id_ = t['id']\n",
    "    text_ = t['text']\n",
    "    jsons_[str(id_)] = {}\n",
    "    jsons_[str(id_)]['text'] = text_\n",
    "    jsons_[str(id_)]['cluster'] = 0\n",
    "    jsons_[str(id_)]['distance'] = -1"
   ]
  },
  {
   "cell_type": "code",
   "execution_count": 3,
   "metadata": {},
   "outputs": [],
   "source": [
    "init_content = request.urlopen('http://www.utdallas.edu/~axn112530/cs6375/unsupervised/InitialSeeds.txt')\n",
    "init_content = init_content.read().decode(\"utf-8\").replace('\\n', '').split(',')\n",
    "clusters_means = [jsons_[init]['text'] for init in init_content]\n",
    "n_clusters = len(clusters_means)"
   ]
  },
  {
   "cell_type": "code",
   "execution_count": 4,
   "metadata": {
    "scrolled": true
   },
   "outputs": [
    {
     "name": "stderr",
     "output_type": "stream",
     "text": [
      "  2%|▏         | 5/251 [00:00<00:05, 42.69it/s]"
     ]
    },
    {
     "name": "stdout",
     "output_type": "stream",
     "text": [
      "# 1th iteration...\n"
     ]
    },
    {
     "name": "stderr",
     "output_type": "stream",
     "text": [
      "100%|██████████| 251/251 [00:05<00:00, 43.20it/s]\n",
      "  2%|▏         | 5/251 [00:00<00:05, 45.14it/s]"
     ]
    },
    {
     "name": "stdout",
     "output_type": "stream",
     "text": [
      "950\n",
      "# 2th iteration...\n"
     ]
    },
    {
     "name": "stderr",
     "output_type": "stream",
     "text": [
      "100%|██████████| 251/251 [00:05<00:00, 46.40it/s]\n",
      "  2%|▏         | 5/251 [00:00<00:05, 46.23it/s]"
     ]
    },
    {
     "name": "stdout",
     "output_type": "stream",
     "text": [
      "25\n",
      "# 3th iteration...\n"
     ]
    },
    {
     "name": "stderr",
     "output_type": "stream",
     "text": [
      "100%|██████████| 251/251 [00:05<00:00, 45.04it/s]\n"
     ]
    },
    {
     "name": "stdout",
     "output_type": "stream",
     "text": [
      "0\n"
     ]
    },
    {
     "data": {
      "image/png": "[encoded data removed]",
      "text/plain": [
       "<Figure size 432x288 with 1 Axes>"
      ]
     },
     "metadata": {
      "needs_background": "light"
     },
     "output_type": "display_data"
    }
   ],
   "source": [
    "# While Iteration until Stop\n",
    "    # Loop each sample\n",
    "        # Loop each clusters and Assign most likely cluster\n",
    "    # Loop each cluster\n",
    "        # Compute Means\n",
    "        \n",
    "UPDATE_FLAG = True\n",
    "clusters = {}\n",
    "clusters_distribution = []\n",
    "i = 0\n",
    "\n",
    "while UPDATE_FLAG:\n",
    "    UPDATE_FLAG = False\n",
    "    count_FLAG = 0\n",
    "    print(\"# {}th iteration...\".format(i+1))\n",
    "    \n",
    "    for k, v in tqdm(jsons_.items()):\n",
    "        c = v['cluster']\n",
    "        d = v['distance']\n",
    "        if d<0:\n",
    "            jsons_[k]['distance'] = JaccardDist(clusters_means[c], v['text'])\n",
    "            d = jsons_[k]['distance']\n",
    "\n",
    "        for c_ in range(n_clusters):\n",
    "            d_ = JaccardDist(clusters_means[c_], v['text'])\n",
    "                \n",
    "            if d_ < d:\n",
    "                c = c_\n",
    "                d = d_\n",
    "                UPDATE_FLAG = True\n",
    "                count_FLAG += 1\n",
    "                \n",
    "        clusters_distribution.append(c)\n",
    "        jsons_[k]['cluster'] = c\n",
    "        jsons_[k]['distance'] = d\n",
    "        \n",
    "        try:\n",
    "            clusters[str(c)].append(v['text'])\n",
    "        except:\n",
    "            clusters[str(c)] = []\n",
    "            clusters[str(c)].append(v['text'])\n",
    "    \n",
    "    for c in range(n_clusters):\n",
    "        clusters_means[c] = computeMean(clusters[str(c)], 0.1)[0]\n",
    "    \n",
    "    print(count_FLAG)\n",
    "    count_FLAG = 0\n",
    "    plt.hist(clusters_distribution)\n",
    "    clusters_distribution = []\n",
    "    i += 1"
   ]
  },
  {
   "cell_type": "code",
   "execution_count": 32,
   "metadata": {},
   "outputs": [],
   "source": [
    "clusters_txt = []\n",
    "for i in range(n_clusters):\n",
    "    line = '{}  '.format(i+1)\n",
    "    ids = []\n",
    "    for k, v in jsons_.items():\n",
    "        if v['cluster'] == i:\n",
    "            ids.append(k)\n",
    "    ids = ','.join(ids)\n",
    "    line += ids\n",
    "    line += '\\n'\n",
    "    clusters_txt.append(line)"
   ]
  },
  {
   "cell_type": "code",
   "execution_count": 33,
   "metadata": {},
   "outputs": [],
   "source": [
    "out_file = open('result.txt','w')\n",
    "for i in range(n_clusters):\n",
    "    out_file.write(clusters_txt[i])\n",
    "#     out_file.write('\\n------------------------------------------\\n')"
   ]
  }
 ],
 "metadata": {
  "kernelspec": {
   "display_name": "Python 3",
   "language": "python",
   "name": "python3"
  },
  "language_info": {
   "codemirror_mode": {
    "name": "ipython",
    "version": 3
   },
   "file_extension": ".py",
   "mimetype": "text/x-python",
   "name": "python",
   "nbconvert_exporter": "python",
   "pygments_lexer": "ipython3",
   "version": "3.6.6"
  }
 },
 "nbformat": 4,
 "nbformat_minor": 2
}
