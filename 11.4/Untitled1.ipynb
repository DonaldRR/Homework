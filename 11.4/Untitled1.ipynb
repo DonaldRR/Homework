{
 "cells": [
  {
   "cell_type": "code",
   "execution_count": 1,
   "metadata": {},
   "outputs": [],
   "source": [
    "import numpy as np\n",
    "from tabulate import tabulate"
   ]
  },
  {
   "cell_type": "code",
   "execution_count": 2,
   "metadata": {},
   "outputs": [],
   "source": [
    "model_names = [\n",
    "    'Support Vector Machine',\n",
    "    'Decision Tree',\n",
    "    'Multipler-Layer Perceptrons ',\n",
    "    'Gausian Naive Bayes',\n",
    "    'Logistic Regression',\n",
    "    'K-Neighbors',\n",
    "    'Bagging',\n",
    "    'Random Forest',\n",
    "    'AdaBoost',\n",
    "    'Gradient Boosting',\n",
    "    'XGBoosting'\n",
    "]"
   ]
  },
  {
   "cell_type": "code",
   "execution_count": 26,
   "metadata": {},
   "outputs": [],
   "source": [
    "infos = []\n",
    "for name in model_names:\n",
    "    row = np.load('{}_result.npy'.format(name))\n",
    "    infos.append([row[i] for i in range(row.shape[0])])"
   ]
  },
  {
   "cell_type": "code",
   "execution_count": 33,
   "metadata": {},
   "outputs": [
    {
     "name": "stdout",
     "output_type": "stream",
     "text": [
      "1                            2                                                                                                                                                                                    3         4\n",
      "---------------------------  ----------------------------------------------------------------------------------------------------------------------------------------------------------------------------  --------  --------\n",
      "Support Vector Machine       {'C': 1, 'degree': 3, 'gamma': 1e-05, 'kernel': 'poly'}                                                                                                                       0.99861   0.988654\n",
      "Decision Tree                {'criterion': 'entropy', 'max_depth': 8, 'max_features': None, 'min_impurity_decrease': 0.0, 'min_samples_leaf': 1, 'min_samples_split': 2, 'min_weight_fraction_leaf': 0.0}  0.99861   0.988654\n",
      "Multipler-Layer Perceptrons  {'activation': 'logistic', 'alpha': 0.0001, 'hidden_layer_sizes': (16, 16), 'learning_rate': 'invscaling', 'max_iter': 1000}                                                  0.645587  0.272155\n",
      "Gausian Naive Bayes          {'priors': [0.1, 0.1, 0.1, 0.1, 0.1, 0.1, 0.1, 0.1, 0.1, 0.1]}                                                                                                                0.987491  0.985427\n",
      "Logistic Regression          {'C': 1.5, 'fit_intercept': True, 'max_iter': 200, 'penalty': 'l1', 'tol': 1e-06}                                                                                             0.975678  0.93892\n",
      "K-Neighbors                  {'algorithm': 'ball_tree', 'n_neighbors': 5, 'p': 1, 'weights': 'distance'}                                                                                                   0.99861   0.988654\n",
      "Bagging                      {'max_features': 3, 'max_samples': 0.5, 'n_estimators': 15, 'random_state': 1}                                                                                                0.983322  0.963315\n",
      "Random Forest                {'criterion': 'gini', 'max_depth': None, 'max_features': None, 'min_samples_split': 10, 'n_estimators': 10}                                                                   0.996525  0.985411\n",
      "AdaBoost                     {'algorithm': 'SAMME.R', 'learning_rate': 0.5, 'n_estimators': 50, 'random_state': 1}                                                                                         0.99861   0.988654\n",
      "Gradient Boosting            {'learning_rate': 0.1, 'loss': 'deviance', 'max_depth': 3, 'min_samples_split': 5, 'n_estimators': 100}                                                                       0.99861   0.988654\n",
      "XGBoosting                   {'booster': 'gbtree', 'learning_rate': 0.1, 'min_child_weight': 3, 'n_estimators': 200}                                                                                       0.997915  0.98792\n"
     ]
    }
   ],
   "source": [
    "print(tabulate(infos, headers=['1','2','3','4']))"
   ]
  },
  {
   "cell_type": "code",
   "execution_count": 30,
   "metadata": {},
   "outputs": [
    {
     "data": {
      "text/plain": [
       "['Support Vector Machine',\n",
       " {'C': 1, 'degree': 3, 'gamma': 1e-05, 'kernel': 'poly'},\n",
       " 0.9986101459346769,\n",
       " 0.9886536960307453]"
      ]
     },
     "execution_count": 30,
     "metadata": {},
     "output_type": "execute_result"
    }
   ],
   "source": []
  },
  {
   "cell_type": "code",
   "execution_count": null,
   "metadata": {},
   "outputs": [],
   "source": []
  }
 ],
 "metadata": {
  "kernelspec": {
   "display_name": "Python 3",
   "language": "python",
   "name": "python3"
  },
  "language_info": {
   "codemirror_mode": {
    "name": "ipython",
    "version": 3
   },
   "file_extension": ".py",
   "mimetype": "text/x-python",
   "name": "python",
   "nbconvert_exporter": "python",
   "pygments_lexer": "ipython3",
   "version": "3.6.6"
  }
 },
 "nbformat": 4,
 "nbformat_minor": 2
}
